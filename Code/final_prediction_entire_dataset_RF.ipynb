{
 "cells": [
  {
   "cell_type": "markdown",
   "id": "af3d60c0",
   "metadata": {},
   "source": [
    "### Load cross validation and testing data for normal vs COVID"
   ]
  },
  {
   "cell_type": "code",
   "execution_count": 6,
   "id": "335256f6",
   "metadata": {},
   "outputs": [],
   "source": [
    "import numpy as np\n",
    "import pandas as pd\n",
    "from sklearn.svm import SVC\n",
    "from sklearn import metrics\n",
    "import matplotlib.pyplot as plt\n",
    "from sklearn.metrics import f1_score\n",
    "from sklearn.metrics import accuracy_score\n",
    "from sklearn.metrics import confusion_matrix\n",
    "from sklearn.ensemble import RandomForestClassifier\n",
    "\n",
    "import warnings\n",
    "warnings.filterwarnings(\"ignore\")"
   ]
  },
  {
   "cell_type": "code",
   "execution_count": 7,
   "id": "32d20b2d",
   "metadata": {},
   "outputs": [],
   "source": [
    "# Load training data (one patient at a time)\n",
    "num_folds = 5\n",
    "X_train = [[] for x in range(num_folds)] # make list of arrays to hold X data for each cell\n",
    "X_validation = [[] for x in range(num_folds)] # make list of arrays to hold X data for each cell\n",
    "y_train = [[] for x in range(num_folds)] # make list of arrays to hold X data for each cell\n",
    "y_validation = [[] for x in range(num_folds)] # make list of arrays to hold X data for each cell\n",
    "\n",
    "X_test = pd.read_csv('normal_vs_disease_test_data.csv')\n",
    "y_test = pd.read_csv('normal_vs_disease_test_label.csv')\n",
    "y_test = np.array(y_test.drop(columns=['Unnamed: 0']))\n",
    "\n",
    "#for i in range(num_folds):\n",
    "for i in range(0, 1):\n",
    "    X_filename =  str(i+1) + '_fold_training' + '.csv'\n",
    "    y_filename = str(i+1) + '_fold_training_label' + '.csv'\n",
    "\n",
    "    X_train_temp = pd.read_csv(X_filename)\n",
    "    y_train_temp = pd.read_csv(y_filename)\n",
    "\n",
    "    # Drop unnecessary columns\n",
    "    y_train_temp = np.array(y_train_temp.drop(columns=['Unnamed: 0']))\n",
    "\n",
    "    \n",
    "    X_filename2 =  str(i+1) + '_fold_testing' + '.csv'\n",
    "    y_filename2 = str(i+1) + '_fold_testing_label' + '.csv'\n",
    "\n",
    "    X_validation_temp = pd.read_csv(X_filename2)\n",
    "    y_validation_temp = pd.read_csv(y_filename2)\n",
    "\n",
    "    # Drop unnecessary columns\n",
    "    y_validation_temp = np.array(y_validation_temp.drop(columns=['Unnamed: 0']))\n",
    "\n",
    "    \n",
    "    X_train[i] = X_train_temp\n",
    "    y_train[i] = y_train_temp\n",
    "    X_validation[i] = X_validation_temp\n",
    "    y_validation[i] = y_validation_temp"
   ]
  },
  {
   "cell_type": "markdown",
   "id": "b6ea0bba",
   "metadata": {},
   "source": [
    "### Use the union of genes from top 100 DEGs of normal vs COVID and mild vs severe"
   ]
  },
  {
   "cell_type": "code",
   "execution_count": 8,
   "id": "cc69f551",
   "metadata": {},
   "outputs": [
    {
     "name": "stdout",
     "output_type": "stream",
     "text": [
      "['CLDN3', 'TRAV6', 'SGK1', 'IL4I1', 'GJA1', 'KRT78', 'FABP4', 'S100A9', 'CXCL9', 'CYR61', 'ATF3', 'CD2', 'SMIM22', 'PLA2G7', 'ISG20', 'KLF6', 'RNASE7', 'LAMC2', 'S100A12', 'KRT7', 'MAFB', 'FTL', 'SPRR1B', 'IFNL2', 'PTPRCAP', 'SFN', 'SERPINB4', 'SAA2-SAA4', 'SFTA2', 'CD38', 'FBXW10', 'IDO1', 'FNIP2', 'TRBV11-3', 'C19orf33', 'GCH1', 'PEG10', 'IL21', 'CTSB', 'NUPR1', 'IGLV5-48', 'IFIT1', 'CTSL', 'ANKRD22', 'CTSE', 'CRYBA4', 'CCL2', 'CD7', 'SLAMF7', 'SPOCK2', 'HKDC1', 'HES4', 'FFAR2', 'C1QA', 'SPON1', 'IER3', 'SERPINB5', 'DUOX2', 'MARCKS', 'TNFSF13B', 'TRBV7-4', 'C1QB', 'FGL2', 'VAMP5', 'AQP1', 'AC114291.1', 'TGFBI', 'MAL2', 'TSHZ2', 'CEACAM7', 'ADGRF5', 'IGHV3-69-1', 'PRSS3', 'SFTPB', 'NR1H3', 'TNFSF10', 'PFKFB3', 'ANXA3', 'CXCL11', 'SPHK1', 'TYROBP', 'IGFL1', 'S100A14', 'CEACAM6', 'AC242022.1', 'IGFBP4', 'CD3E', 'IGHV5-51', 'PRSS22', 'TRDV3', 'CD48', 'NINJ1', 'CD1E', 'IFNL3', 'IL1RN', 'ICAM1', 'TRBV10-1', 'CTSD', 'TMPRSS11A', 'WIF1', 'GZMA', 'CCL8', 'SDS', 'C1QC', 'ADGRF4', 'TRAV38-2DV8', 'CD247', 'CD52', 'CXCL10', 'S100A8', 'RSAD2', 'SFTA1P', 'IFIT3', 'BSND', 'PRSS2', 'RIIAD1', 'CCL4L2', 'PALM', 'CCL3', 'C5orf66-AS1', 'CD74', 'ATF5', 'TRDV2', 'KRT81', 'CCR4', 'KRT16', 'GBP5', 'AC129926.1', 'GCNT3', 'LGMN', 'RGL1', 'PPP4R1-AS1', 'TMPRSS11D', 'GBP1', 'SPP1', 'TRAV38-1', 'IGFL2', 'MT-CO1', 'MARCO', 'KRTAP3-1', 'HSPB8', 'CCL4', 'CST3', 'AC089983.1', 'TRBV12-5', 'MX1', 'HLA-DPB1', 'RAB25', 'AC105227.1', 'GBP4', 'RGS1', 'CALHM6', 'SFTPA2', 'ALOX5AP']\n",
      "[ 177  412  818 1235 1846  225  125  211  104  438  676  330  348  781\n",
      "  981 1406  668 1599   85   49  822  917  153 1720  522  103  554  831\n",
      "  248 1484 1096  305 1498  228  376 1453  689  685  912  352 1547  778\n",
      "  337 1135  455  984   32  265  792  660 1094  511  699  451 1699  403\n",
      " 1004 1444  947 1693 1166  388 1317 1177  859  902 1856  634 1549  833\n",
      " 1121  832 1644   70 1279  658 1963  914  170 1946 1496 1881  198  142\n",
      " 1839 1566  363  392  442  552 1885  944  273 1967  270 1575  537 1653\n",
      " 1992 1555  108   30  288  245 1882  193  824  852   59  102  520  842\n",
      "  876 1089 1724 1042   13 1104  119 1394  607 1275  197  677 1421  338\n",
      " 1093  969 1673  387 1588 1610 1248 1148   21  279 1633 1756  771 1180\n",
      "  628   29 1492 1725  815 1604 1247 1506 1733 1867  432  811  106 1078]\n",
      "154\n"
     ]
    }
   ],
   "source": [
    "top_gene2=[]\n",
    "\n",
    "with open (\"union_mild_severe_and_normal_rest_new.txt\") as f2:\n",
    "    lines2=f2.readlines()\n",
    "    for line2 in lines2:\n",
    "        line2=line2.strip()\n",
    "        top_gene2.append(line2)\n",
    "\n",
    "index2 = X_train[0].columns.get_indexer(top_gene2) \n",
    "print(top_gene2)\n",
    "print(index2)\n",
    "print(len(index2))"
   ]
  },
  {
   "cell_type": "code",
   "execution_count": 17,
   "id": "22cecfc2",
   "metadata": {},
   "outputs": [
    {
     "name": "stdout",
     "output_type": "stream",
     "text": [
      "fold 1\n",
      "13916\n",
      "<class 'numpy.ndarray'>\n",
      "3476\n",
      "<class 'numpy.ndarray'>\n"
     ]
    }
   ],
   "source": [
    "SVM_f1_cv_new=[]\n",
    "rf_f1_cv_new=[]\n",
    "feature_importance_values = []\n",
    "\n",
    "#for i3 in range(num_folds):\n",
    "for i3 in range(0, 1):\n",
    "    print(\"fold \"+str(i3+1))\n",
    "    X_train_new2 = X_train[i3].iloc[:, index2] # retain only the top n features in the data\n",
    "    X_validation_new2 = X_validation[i3].iloc[:, index2] # retain only the top n features in the data\n",
    "    \n",
    "    clf_rf2 = RandomForestClassifier(n_estimators = 100)\n",
    "    clf_rf2.fit(X_train_new2, y_train[i3])\n",
    "    validation_pred2_rf = clf_rf2.predict(X_validation_new2)\n",
    "    train_pred2_rf = clf_rf2.predict(X_train_new2)\n",
    "    df = pd.DataFrame(train_pred2_rf)\n",
    "    df.to_csv(\"train_pred2_rf_label.csv\")\n",
    "    df2 = pd.DataFrame(validation_pred2_rf)\n",
    "    df2.to_csv(\"validation_pred2_rf_label.csv\")\n",
    "    print(len(train_pred2_rf))\n",
    "    print(type(train_pred2_rf))\n",
    "    print(len(validation_pred2_rf))\n",
    "    print(type(validation_pred2_rf))\n"
   ]
  },
  {
   "cell_type": "code",
   "execution_count": 18,
   "id": "0f10a958",
   "metadata": {},
   "outputs": [],
   "source": [
    "X_test_new2 = X_test.iloc[:, index2] # retain only the top n features in the data\n",
    "test_pred2_rf = clf_rf2.predict(X_test_new2)\n",
    "df3 = pd.DataFrame(test_pred2_rf)\n",
    "df3.to_csv(\"test_pred2_rf_label.csv\")"
   ]
  },
  {
   "cell_type": "markdown",
   "id": "184f7b35",
   "metadata": {},
   "source": [
    "### Load cross validation and testing data for mild vs severe using the union of genes from top 100 DEGs of normal vs COVID and mild vs severe"
   ]
  },
  {
   "cell_type": "code",
   "execution_count": 9,
   "id": "588693e5",
   "metadata": {},
   "outputs": [
    {
     "name": "stdout",
     "output_type": "stream",
     "text": [
      "fold 1\n"
     ]
    }
   ],
   "source": [
    "num_folds = 5\n",
    "\n",
    "X_train2 = [[] for x in range(num_folds)] # make list of arrays to hold X data for each cell\n",
    "X_validation2 = [[] for x in range(num_folds)] # make list of arrays to hold X data for each cell\n",
    "y_train2 = [[] for x in range(num_folds)] # make list of arrays to hold X data for each cell\n",
    "y_validation2 = [[] for x in range(num_folds)] # make list of arrays to hold X data for each cell\n",
    "\n",
    "X_test2 = pd.read_csv('mild_vs_severe_test_data.csv')\n",
    "y_test2 = pd.read_csv('mild_vs_severe_test_label.csv')\n",
    "y_test2 = np.array(y_test2.drop(columns=['Unnamed: 0']))\n",
    "\n",
    "#for i4 in range(num_folds):\n",
    "for i4 in range(0, 1):\n",
    "    X_filename3 =  str(i4+1) + '_fold_training_new' + '.csv'\n",
    "    y_filename3 = str(i4+1) + '_fold_training_label_new' + '.csv'\n",
    "\n",
    "    X_train_temp2 = pd.read_csv(X_filename3)\n",
    "    y_train_temp2 = pd.read_csv(y_filename3)\n",
    "\n",
    "    # Drop unnecessary columns\n",
    "    y_train_temp2 = np.array(y_train_temp2.drop(columns=['Unnamed: 0']))\n",
    "\n",
    "    \n",
    "    X_filename4 =  str(i4+1) + '_fold_testing_new' + '.csv'\n",
    "    y_filename4 = str(i4+1) + '_fold_testing_label_new' + '.csv'\n",
    "\n",
    "    X_validation_temp2 = pd.read_csv(X_filename4)\n",
    "    y_validation_temp2 = pd.read_csv(y_filename4)\n",
    "\n",
    "    # Drop unnecessary columns\n",
    "    y_validation_temp2 = np.array(y_validation_temp2.drop(columns=['Unnamed: 0']))\n",
    "    \n",
    "    X_train2[i4] = X_train_temp2\n",
    "    y_train2[i4] = y_train_temp2\n",
    "    X_validation2[i4] = X_validation_temp2\n",
    "    y_validation2[i4] = y_validation_temp2\n",
    "\n",
    "\n",
    "SVM_f1_cv_new2=[]\n",
    "rf_f1_cv_new2=[]\n",
    "feature_importance_values_new = []\n",
    "\n",
    "#for i6 in range(num_folds):\n",
    "for i6 in range(0, 1):\n",
    "    print(\"fold \"+str(i6+1))\n",
    "    X_train_new4 = X_train2[i6].iloc[:, index2] # retain only the top n features in the data\n",
    "    X_validation_new4 = X_validation2[i6].iloc[:, index2] # retain only the top n features in the data\n",
    "    \n",
    "    clf_rf4 = RandomForestClassifier(n_estimators = 100)\n",
    "    clf_rf4.fit(X_train_new4, y_train2[i6])\n",
    "    validation_pred4_rf = clf_rf4.predict(X_validation_new4)\n",
    "    train_pred4_rf = clf_rf4.predict(X_train_new4)\n",
    "    df4 = pd.DataFrame(train_pred4_rf)\n",
    "    df4.to_csv(\"train_pred4_rf_label.csv\")\n",
    "    df5 = pd.DataFrame(validation_pred4_rf)\n",
    "    df5.to_csv(\"validation_pred4_rf_label.csv\")"
   ]
  },
  {
   "cell_type": "code",
   "execution_count": 10,
   "id": "a2bf5a8f",
   "metadata": {},
   "outputs": [],
   "source": [
    "X_test_new4 = X_test2.iloc[:, index2] # retain only the top n features in the data\n",
    "test_pred4_rf = clf_rf4.predict(X_test_new4)\n",
    "df6 = pd.DataFrame(test_pred4_rf)\n",
    "df6.to_csv(\"test_pred4_rf_label.csv\")"
   ]
  }
 ],
 "metadata": {
  "kernelspec": {
   "display_name": "Python 3 (ipykernel)",
   "language": "python",
   "name": "python3"
  },
  "language_info": {
   "codemirror_mode": {
    "name": "ipython",
    "version": 3
   },
   "file_extension": ".py",
   "mimetype": "text/x-python",
   "name": "python",
   "nbconvert_exporter": "python",
   "pygments_lexer": "ipython3",
   "version": "3.9.5"
  }
 },
 "nbformat": 4,
 "nbformat_minor": 5
}
