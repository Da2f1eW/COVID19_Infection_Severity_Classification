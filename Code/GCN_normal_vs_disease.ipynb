{
 "cells": [
  {
   "cell_type": "code",
   "execution_count": null,
   "id": "Q6PW_GjaTvjD",
   "metadata": {
    "id": "Q6PW_GjaTvjD"
   },
   "outputs": [],
   "source": [
    "# GCN implementation - Normal vs. Disease"
   ]
  },
  {
   "cell_type": "code",
   "execution_count": null,
   "id": "25eb2743",
   "metadata": {
    "id": "25eb2743"
   },
   "outputs": [],
   "source": [
    "import numpy as np\n",
    "import pandas as pd\n",
    "from sklearn.svm import SVC\n",
    "from sklearn.metrics import f1_score\n",
    "from sklearn.metrics import confusion_matrix"
   ]
  },
  {
   "cell_type": "code",
   "execution_count": null,
   "id": "PFMyU2PQ8JaF",
   "metadata": {
    "id": "PFMyU2PQ8JaF"
   },
   "outputs": [],
   "source": [
    "# Get features to retain\n",
    "X_train = pd.read_csv('normal_vs_disease_training_data.csv')\n",
    "y_train = pd.read_csv('normal_vs_disease_training_label.csv')\n",
    "y_train = np.array(y_train.drop(columns=['Unnamed: 0']))\n",
    "\n",
    "X_test = pd.read_csv('normal_vs_disease_test_data.csv')\n",
    "y_test = pd.read_csv('normal_vs_disease_test_label.csv')\n",
    "y_test = np.array(y_test.drop(columns=['Unnamed: 0']))"
   ]
  },
  {
   "cell_type": "code",
   "execution_count": null,
   "id": "Gb2j1xoqCN_3",
   "metadata": {
    "colab": {
     "base_uri": "https://localhost:8080/",
     "height": 317
    },
    "executionInfo": {
     "elapsed": 146,
     "status": "ok",
     "timestamp": 1682019976950,
     "user": {
      "displayName": "Wei-An Chen",
      "userId": "16935604473279164246"
     },
     "user_tz": 240
    },
    "id": "Gb2j1xoqCN_3",
    "outputId": "7dc01c85-c9e2-47df-c715-f26730cb75f0"
   },
   "outputs": [],
   "source": [
    "X_train.head()"
   ]
  },
  {
   "cell_type": "code",
   "execution_count": null,
   "id": "92LZDzA4n7tN",
   "metadata": {
    "id": "92LZDzA4n7tN"
   },
   "outputs": [],
   "source": [
    "!pip install torch_geometric"
   ]
  },
  {
   "cell_type": "code",
   "execution_count": null,
   "id": "b308e8f7",
   "metadata": {
    "id": "b308e8f7"
   },
   "outputs": [],
   "source": [
    "import torch\n",
    "import torch.nn as nn\n",
    "import torch.optim as optim\n",
    "import torch.nn.functional as F\n",
    "from torch_geometric.nn import GCNConv\n",
    "from torch_geometric.data import Data"
   ]
  },
  {
   "cell_type": "code",
   "execution_count": null,
   "id": "851df61f",
   "metadata": {
    "id": "851df61f"
   },
   "outputs": [],
   "source": [
    "# TRAINING\n",
    "# Calculate the adjacency matrix (correlation matrix) for training data.\n",
    "data_matrix = X_train\n",
    "\n",
    "# correlation threshold: only variable pairs with correlation coefficients greater than 0.8 are considered highly correlated.\n",
    "threshold = 0.8  \n",
    "\n",
    "if isinstance(data_matrix, pd.DataFrame):\n",
    "    data_matrix = data_matrix.to_numpy()\n",
    "\n",
    "correlation_matrix = np.corrcoef(data_matrix)\n",
    "adj_matrix = (np.abs(correlation_matrix) >= threshold).astype(int)\n",
    "\n",
    "labels = [True if i == ['Normal'] else False for i in y_train]\n",
    "\n",
    "# Convert adjacency matrix and node feature matrix to PyTorch Tensors\n",
    "adj_matrix = torch.tensor(adj_matrix, dtype=torch.long)\n",
    "feature_matrix = torch.tensor(data_matrix, dtype=torch.float32)\n",
    "labels = torch.tensor(labels, dtype=torch.long)\n",
    "\n",
    "# Build edge index\n",
    "edge_index = adj_matrix.nonzero(as_tuple=True)\n",
    "edge_index = torch.stack(edge_index, dim=0)\n",
    "\n",
    "# Create PyTorch Geometric Data object\n",
    "data_train = Data(x=feature_matrix, edge_index=edge_index, y=labels)\n"
   ]
  },
  {
   "cell_type": "code",
   "execution_count": null,
   "id": "U3VdG9rsviqK",
   "metadata": {
    "id": "U3VdG9rsviqK"
   },
   "outputs": [],
   "source": [
    "# TESTING\n",
    "# Calculate the adjacency matrix (correlation matrix) for testing data.\n",
    "data_matrix = X_test \n",
    "threshold = 0.8\n",
    "\n",
    "if isinstance(data_matrix, pd.DataFrame):\n",
    "    data_matrix = data_matrix.to_numpy()\n",
    "\n",
    "correlation_matrix = np.corrcoef(data_matrix)\n",
    "adj_matrix = (np.abs(correlation_matrix) >= threshold).astype(int)\n",
    "\n",
    "labels = [True if i == ['Normal'] else False for i in y_test]\n",
    "\n",
    "# Convert adjacency matrix and node feature matrix to PyTorch Tensors\n",
    "adj_matrix = torch.tensor(adj_matrix, dtype=torch.long)\n",
    "feature_matrix = torch.tensor(data_matrix, dtype=torch.float32)\n",
    "labels = torch.tensor(labels, dtype=torch.long)\n",
    "\n",
    "# Build edge index\n",
    "edge_index = adj_matrix.nonzero(as_tuple=True)\n",
    "edge_index = torch.stack(edge_index, dim=0)\n",
    "\n",
    "# Create PyTorch Geometric Data object\n",
    "data_test = Data(x=feature_matrix, edge_index=edge_index, y=labels)\n"
   ]
  },
  {
   "cell_type": "code",
   "execution_count": null,
   "id": "bcb4900f",
   "metadata": {
    "id": "bcb4900f"
   },
   "outputs": [],
   "source": [
    "class GCNClassifier(torch.nn.Module):\n",
    "    def __init__(self, input_dim, hidden_dim, num_classes):\n",
    "        super(GCNClassifier, self).__init__()\n",
    "        self.conv1 = GCNConv(input_dim, hidden_dim)\n",
    "        self.conv2 = GCNConv(hidden_dim, num_classes)\n",
    "\n",
    "    def forward(self, x, edge_index):\n",
    "        # x, edge_index = data.x, data.edge_index\n",
    "        x = self.conv1(x, edge_index)\n",
    "        x = F.relu(x)\n",
    "        x = F.dropout(x, training=self.training)\n",
    "        x = self.conv2(x, edge_index)\n",
    "        return F.log_softmax(x, dim=1)"
   ]
  },
  {
   "cell_type": "code",
   "execution_count": null,
   "id": "366bf13b",
   "metadata": {
    "id": "366bf13b"
   },
   "outputs": [],
   "source": [
    "def evaluate(model, data):\n",
    "    model.eval()\n",
    "    with torch.no_grad():\n",
    "        out = model(data.x, data.edge_index)\n",
    "        pred = out.argmax(dim=1)\n",
    "        correct = float(pred.eq(data.y).sum().item())\n",
    "        accuracy = correct / len(data.y)\n",
    "        return accuracy"
   ]
  },
  {
   "cell_type": "code",
   "execution_count": null,
   "id": "f17aa5cc",
   "metadata": {
    "colab": {
     "base_uri": "https://localhost:8080/"
    },
    "executionInfo": {
     "elapsed": 87228,
     "status": "ok",
     "timestamp": 1682104990949,
     "user": {
      "displayName": "Wei-An Chen",
      "userId": "16935604473279164246"
     },
     "user_tz": 240
    },
    "id": "f17aa5cc",
    "outputId": "4823832e-b87b-4322-ba02-436a97ff6d84"
   },
   "outputs": [],
   "source": [
    "input_dim = feature_matrix.shape[1]\n",
    "hidden_dim = 64\n",
    "num_classes = len(set(labels.tolist()))\n",
    "\n",
    "model = GCNClassifier(input_dim, hidden_dim, num_classes)\n",
    "optimizer = optim.Adam(model.parameters(), lr=0.005, weight_decay=5e-4)\n",
    "criterion = nn.CrossEntropyLoss()\n",
    "\n",
    "num_epochs = 200\n",
    "\n",
    "for epoch in range(num_epochs):\n",
    "    model.train()\n",
    "    optimizer.zero_grad()\n",
    "    out = model(data_train.x, data_train.edge_index)\n",
    "    #print(out.shape)\n",
    "    #print(data_train.y.shape)\n",
    "    loss = criterion(out, data_train.y)\n",
    "    loss.backward()\n",
    "    optimizer.step()\n",
    "    \n",
    "    # Evaluate the model on the train and test set\n",
    "    train_acc = evaluate(model, data_train)\n",
    "    test_acc = evaluate(model, data_test)\n",
    "\n",
    "    print(f\"Epoch: {epoch + 1}, Loss: {loss.item()}, Test Accuracy: {test_acc}\")"
   ]
  },
  {
   "cell_type": "code",
   "execution_count": null,
   "id": "0b5bd85e",
   "metadata": {
    "colab": {
     "base_uri": "https://localhost:8080/"
    },
    "executionInfo": {
     "elapsed": 170,
     "status": "ok",
     "timestamp": 1682021881399,
     "user": {
      "displayName": "Wei-An Chen",
      "userId": "16935604473279164246"
     },
     "user_tz": 240
    },
    "id": "0b5bd85e",
    "outputId": "bf262769-e5fa-44f7-b22d-ee31daa7d1fb"
   },
   "outputs": [],
   "source": [
    "# F1 score\n",
    "\n",
    "model.eval()\n",
    "\n",
    "with torch.no_grad():\n",
    "    out = model(data_test.x, data_test.edge_index)\n",
    "    pred = out.argmax(dim=1)\n",
    "    pred = pred.tolist()\n",
    "    y_test = data_test.y.tolist()\n",
    "    f1 = f1_score(y_test, pred, average='weighted')\n",
    "    print(\"f1:\", f1)\n"
   ]
  },
  {
   "cell_type": "code",
   "execution_count": null,
   "id": "8IL5kJHoxiRP",
   "metadata": {
    "colab": {
     "base_uri": "https://localhost:8080/"
    },
    "executionInfo": {
     "elapsed": 393,
     "status": "ok",
     "timestamp": 1682021885564,
     "user": {
      "displayName": "Wei-An Chen",
      "userId": "16935604473279164246"
     },
     "user_tz": 240
    },
    "id": "8IL5kJHoxiRP",
    "outputId": "189cee38-66b2-455c-ca08-78fdcd54f31b"
   },
   "outputs": [],
   "source": [
    "# Confusion matrix\n",
    "\n",
    "cm = confusion_matrix(y_test, pred)\n",
    "cm_df = pd.DataFrame(cm, columns=['Predicted Positive', 'Predicted Negative'], index=['Actual Positive', 'Actual Negative'])\n",
    "\n",
    "print(cm_df)"
   ]
  },
  {
   "cell_type": "code",
   "execution_count": null,
   "id": "gnB8SEWVxjHR",
   "metadata": {
    "colab": {
     "base_uri": "https://localhost:8080/",
     "height": 489
    },
    "executionInfo": {
     "elapsed": 873,
     "status": "ok",
     "timestamp": 1681828498005,
     "user": {
      "displayName": "Wei-An Chen",
      "userId": "16935604473279164246"
     },
     "user_tz": 240
    },
    "id": "gnB8SEWVxjHR",
    "outputId": "72406712-69bc-4b03-d469-f1c9e35d177b"
   },
   "outputs": [],
   "source": [
    "from sklearn.metrics import roc_curve, auc, accuracy_score\n",
    "import matplotlib.pyplot as plt\n",
    "\n",
    "fpr, tpr, _ = roc_curve(y_test, pred)\n",
    "roc_auc = auc(fpr, tpr)\n",
    "\n",
    "plt.figure()\n",
    "plt.plot(fpr, tpr, label='ROC curve (area = %0.2f)' % roc_auc)\n",
    "plt.plot([0, 1], [0, 1], 'k--')\n",
    "plt.xlim([0.0, 1.0])\n",
    "plt.ylim([0.0, 1.05])\n",
    "plt.xlabel('False Positive Rate')\n",
    "plt.ylabel('True Positive Rate')\n",
    "plt.title('Receiver Operating Characteristic')\n",
    "plt.legend(loc=\"lower right\")\n",
    "plt.show()\n",
    "\n",
    "accuracy = accuracy_score(y_test, pred)\n",
    "print(\"Accuracy:\", accuracy)"
   ]
  },
  {
   "cell_type": "code",
   "execution_count": null,
   "id": "cRKUF3t1Ro74",
   "metadata": {
    "colab": {
     "base_uri": "https://localhost:8080/",
     "height": 502
    },
    "executionInfo": {
     "elapsed": 671,
     "status": "ok",
     "timestamp": 1682106452519,
     "user": {
      "displayName": "Wei-An Chen",
      "userId": "16935604473279164246"
     },
     "user_tz": 240
    },
    "id": "cRKUF3t1Ro74",
    "outputId": "4828a157-3d2b-4fb2-f790-bed69ca399f7"
   },
   "outputs": [],
   "source": [
    "# Parameter tuning result validation\n",
    "x_tick_labels = [f\"{wd:.4f}\" for wd in weight_decays]\n",
    "y_tick_labels = [f\"{lr:.4f}\" for lr in learning_rates]\n",
    "\n",
    "\n",
    "fig, ax = plt.subplots()\n",
    "sns.heatmap(results, annot=True, fmt=\".2f\", xticklabels=x_tick_labels, yticklabels=y_tick_labels, ax=ax)\n",
    "\n",
    "\n",
    "ax.set_xlabel(\"Weight Decay\")\n",
    "ax.set_ylabel(\"Learning Rate\")\n",
    "ax.set_title(\"Test F1 Heatmap\")\n",
    "\n",
    "ax.set_xticks(np.arange(len(weight_decays)) + 0.5)\n",
    "ax.set_yticks(np.arange(len(learning_rates)) + 0.5)\n",
    "\n",
    "\n",
    "ax.set_xticklabels(x_tick_labels)\n",
    "ax.set_yticklabels(y_tick_labels)\n",
    "\n",
    "\n",
    "plt.setp(ax.get_xticklabels(), rotation=45, ha='right', rotation_mode='anchor')\n",
    "\n",
    "\n",
    "plt.show()"
   ]
  },
  {
   "cell_type": "code",
   "execution_count": null,
   "id": "15ao0AhjWrnQ",
   "metadata": {
    "colab": {
     "base_uri": "https://localhost:8080/",
     "height": 622
    },
    "executionInfo": {
     "elapsed": 747,
     "status": "ok",
     "timestamp": 1682022549614,
     "user": {
      "displayName": "Wei-An Chen",
      "userId": "16935604473279164246"
     },
     "user_tz": 240
    },
    "id": "15ao0AhjWrnQ",
    "outputId": "3f51916d-757f-400c-fa7c-268f70e4deff"
   },
   "outputs": [],
   "source": [
    "# Explainable AI\n",
    "\n",
    "from torch_geometric.explain import Explainer, GNNExplainer\n",
    "from torch_geometric.utils import to_networkx\n",
    "explainer = Explainer(\n",
    "    model=model,\n",
    "    algorithm=GNNExplainer(epochs=200),\n",
    "    explanation_type='model',\n",
    "    node_mask_type='attributes',\n",
    "    edge_mask_type='object',\n",
    "    model_config=dict(\n",
    "        mode='multiclass_classification',\n",
    "        task_level='node',\n",
    "        return_type='probs',\n",
    "    ),\n",
    ")\n",
    "\n",
    "node_index = 0 #which node (cell) to intepretate\n",
    "explanation = explainer(data_test.x, data_test.edge_index, index=node_index)\n",
    "explanation.visualize_feature_importance(top_k=20)"
   ]
  },
  {
   "cell_type": "code",
   "execution_count": null,
   "id": "Zlp_XLNwDqRT",
   "metadata": {
    "id": "Zlp_XLNwDqRT"
   },
   "outputs": [],
   "source": []
  }
 ],
 "metadata": {
  "colab": {
   "provenance": []
  },
  "gpuClass": "standard",
  "kernelspec": {
   "display_name": "Python 3 (ipykernel)",
   "language": "python",
   "name": "python3"
  },
  "language_info": {
   "codemirror_mode": {
    "name": "ipython",
    "version": 3
   },
   "file_extension": ".py",
   "mimetype": "text/x-python",
   "name": "python",
   "nbconvert_exporter": "python",
   "pygments_lexer": "ipython3",
   "version": "3.7.7"
  }
 },
 "nbformat": 4,
 "nbformat_minor": 5
}
